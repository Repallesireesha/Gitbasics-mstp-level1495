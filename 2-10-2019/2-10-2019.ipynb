{
 "cells": [
  {
   "cell_type": "markdown",
   "metadata": {},
   "source": [
    "## Regular expressions"
   ]
  },
  {
   "cell_type": "code",
   "execution_count": null,
   "metadata": {},
   "outputs": [],
   "source": [
    "1.abc--That matches the exact character sequence anywhere in the string\n",
    "2.^abc--abc at the beginning of the string\n",
    "3.abc$--abc at the end of the string\n",
    "4.a|b--either of a and b\n",
    "5.^abc|abc$--the string abc at the beginning or at the end of the string\n",
    "6.ab{2,4}c--an a followed by two,three or four b's followed by a c\n",
    "7.ab{2,}c--a followed by atleast two b's followed by a c\n",
    "8.ab*c--an a followed by any number(zero or more) b's followed by a c\n",
    "9.^([0-9]|[a-z]|[A-Z])([0-9]|[a-z]|[A-Z]|[_]){6,14}([0-9]|[a-z])@[a-z]{2,10}[.][a-z]{2,4}$\n",
    "10.^a...b$(ahgdb)(or)(a123b)"
   ]
  },
  {
   "cell_type": "markdown",
   "metadata": {},
   "source": [
    "## phone number validation"
   ]
  },
  {
   "cell_type": "code",
   "execution_count": 13,
   "metadata": {},
   "outputs": [
    {
     "data": {
      "text/plain": [
       "1"
      ]
     },
     "execution_count": 13,
     "metadata": {},
     "output_type": "execute_result"
    }
   ],
   "source": [
    "# ^[0][6-9][0-9]{9}$---10 digit number starting with zero\n",
    "# ^+91[6789][0-9]{9}$---10 digit number starting with +91\n",
    "# ^[6-9][0-9]{9}$\n",
    "import re\n",
    "def phonenumber(n):\n",
    "    pattern='^[+][9][1][6789][0-9]{9}$|^[0][6-9][0-9]{9}$|^[6-9][0-9]{9}$'\n",
    "    if re.match(pattern,str(n)):\n",
    "        return 1\n",
    "    else:\n",
    "        return 0\n",
    "phonenumber(\"6125367489\")\n",
    "phonenumber(\"919182645789\")\n",
    "phonenumber(\"07744563783\")\n",
    "\n",
    "\n",
    "    \n",
    "    "
   ]
  },
  {
   "cell_type": "markdown",
   "metadata": {},
   "source": [
    "## email validation"
   ]
  },
  {
   "cell_type": "code",
   "execution_count": 7,
   "metadata": {},
   "outputs": [
    {
     "data": {
      "text/plain": [
       "1"
      ]
     },
     "execution_count": 7,
     "metadata": {},
     "output_type": "execute_result"
    }
   ],
   "source": [
    "import re\n",
    "def email(e):\n",
    "    pattern='^([0-9]|[a-z]|[A-Z])([0-9]|[a-z]|[A-Z]|[_]){6,19}([0-9]|[a-z])@[a-z]{2,10}[.][a-z]{2,4}$'\n",
    "    if re.match(pattern,str(e)):\n",
    "        return 1\n",
    "    else:\n",
    "        return 0\n",
    "email(\"repallesireesha495@gmail.com\")"
   ]
  },
  {
   "cell_type": "code",
   "execution_count": null,
   "metadata": {},
   "outputs": [],
   "source": []
  },
  {
   "cell_type": "code",
   "execution_count": null,
   "metadata": {},
   "outputs": [],
   "source": []
  }
 ],
 "metadata": {
  "kernelspec": {
   "display_name": "Python 3",
   "language": "python",
   "name": "python3"
  },
  "language_info": {
   "codemirror_mode": {
    "name": "ipython",
    "version": 3
   },
   "file_extension": ".py",
   "mimetype": "text/x-python",
   "name": "python",
   "nbconvert_exporter": "python",
   "pygments_lexer": "ipython3",
   "version": "3.7.3"
  }
 },
 "nbformat": 4,
 "nbformat_minor": 2
}
