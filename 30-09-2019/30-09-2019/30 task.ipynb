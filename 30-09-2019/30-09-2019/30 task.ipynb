{
 "cells": [
  {
   "cell_type": "markdown",
   "metadata": {},
   "source": [
    "## Question 1"
   ]
  },
  {
   "cell_type": "code",
   "execution_count": 12,
   "metadata": {},
   "outputs": [
    {
     "name": "stdout",
     "output_type": "stream",
     "text": [
      "{1: 1, 2: 4, 3: 9, 4: 16, 5: 25, 6: 36, 7: 49, 8: 64, 9: 81, 10: 100, 11: 121, 12: 144, 13: 169, 14: 196, 15: 225}\n",
      "[1, 4, 9, 16, 25, 36, 49, 64, 81, 100, 121, 144, 169, 196, 225]\n"
     ]
    }
   ],
   "source": [
    "# write a python program to print a list and a dictionary of square of numbers from 1 and 15(include both)\n",
    "p={}\n",
    "q=[]\n",
    "n=15\n",
    "for i in range(1,n+1):\n",
    "    p[i]=i**2\n",
    "    q.append(i**2)   \n",
    "print(p)    \n",
    "print(q)"
   ]
  },
  {
   "cell_type": "markdown",
   "metadata": {},
   "source": [
    "## Question 2"
   ]
  },
  {
   "cell_type": "code",
   "execution_count": 11,
   "metadata": {},
   "outputs": [
    {
     "name": "stdout",
     "output_type": "stream",
     "text": [
      "10\n",
      "[1, 2, 3, 4, 5, 6, 7, 8, 9, 10]\n"
     ]
    }
   ],
   "source": [
    "# Take 10 integer input from user and store them in a list and print them on screen\n",
    "n=int(input())\n",
    "p=[]\n",
    "for i in range(1,n+1):\n",
    "    p.append(i)\n",
    "print(p)"
   ]
  },
  {
   "cell_type": "markdown",
   "metadata": {},
   "source": [
    "## Question 3"
   ]
  },
  {
   "cell_type": "code",
   "execution_count": 6,
   "metadata": {},
   "outputs": [
    {
     "name": "stdout",
     "output_type": "stream",
     "text": [
      "[2, 4] "
     ]
    }
   ],
   "source": [
    "# l=[1,5,7,3,2,4,5,9],print list of all even numbers from the given list\n",
    "l=[1,5,7,3,2,4,5,9]\n",
    "p=[]\n",
    "for i in range(len(l)):\n",
    "    if (l[i]%2==0):\n",
    "        p.append(l[i])\n",
    "print(p,end=\" \")\n",
    "        \n",
    "    "
   ]
  },
  {
   "cell_type": "markdown",
   "metadata": {},
   "source": [
    "## Question 4"
   ]
  },
  {
   "cell_type": "code",
   "execution_count": 14,
   "metadata": {},
   "outputs": [
    {
     "name": "stdout",
     "output_type": "stream",
     "text": [
      "2\n",
      "-3\n",
      "4\n",
      "0\n",
      "0\n",
      "-6\n",
      "24\n",
      "76\n",
      "0\n",
      "35\n",
      "{'p': 5, 'n': 2, 'e': 5, 'o': 2, 'z': 3}\n"
     ]
    }
   ],
   "source": [
    "# Take 10 integer inputs from the user and print the following:\n",
    "\n",
    "\n",
    "l=[]\n",
    "for i in range (1,11):\n",
    "    n=int(input())\n",
    "    l.append(n)\n",
    "d={'p':0,'n':0,'e':0,'o':0,'z':0}\n",
    "for j in l:\n",
    "    if j>0:\n",
    "        d['p']+=1\n",
    "        if j%2==0:\n",
    "            d['e']+=1\n",
    "        else:\n",
    "            d['o']+=1\n",
    "    elif j<0:\n",
    "        d['n']+=1\n",
    "        if j%2==0:\n",
    "            d['e']+=1\n",
    "        else:\n",
    "            d['o']+=1\n",
    "    elif j==0:\n",
    "        d['z']+=1\n",
    "print(d)\n",
    "            \n",
    "   \n",
    "   \n",
    "   \n",
    "  \n",
    "\n"
   ]
  },
  {
   "cell_type": "markdown",
   "metadata": {},
   "source": [
    "## Question 8"
   ]
  },
  {
   "cell_type": "code",
   "execution_count": 12,
   "metadata": {},
   "outputs": [
    {
     "name": "stdout",
     "output_type": "stream",
     "text": [
      "{'M': 1, 'I': 4, 'S': 4, 'P': 2}\n"
     ]
    }
   ],
   "source": [
    "# Count the number of occurrence of each letter in word\"MISSISSIPPI\".store count of every letter with the letter in a dictionary\n",
    "p=\"MISSISSIPPI\"\n",
    "q={}\n",
    "for i in p:\n",
    "    q[i]=p.count(i)\n",
    "print(q)\n",
    "    "
   ]
  },
  {
   "cell_type": "markdown",
   "metadata": {},
   "source": [
    "## Question 9"
   ]
  },
  {
   "cell_type": "code",
   "execution_count": 16,
   "metadata": {},
   "outputs": [
    {
     "name": "stdout",
     "output_type": "stream",
     "text": [
      "{'M': 1, 'I': 4, 'S': 4, 'P': 2}\n"
     ]
    }
   ],
   "source": [
    "# From the previous question,sort according the the number of letters\n",
    "p=\"MISSISSIPPI\"\n",
    "x={}\n",
    "l=sorted(p)\n",
    "for i in p:\n",
    "    x[i]=p.count(i)\n",
    "print(x)"
   ]
  },
  {
   "cell_type": "markdown",
   "metadata": {},
   "source": [
    "## Question 5"
   ]
  },
  {
   "cell_type": "code",
   "execution_count": 1,
   "metadata": {},
   "outputs": [
    {
     "name": "stdout",
     "output_type": "stream",
     "text": [
      "10\n",
      "siri\n",
      "60\n",
      "saru\n",
      "50\n",
      "vasu\n",
      "80\n",
      "sravs\n",
      "80\n",
      "shabu\n",
      "90\n",
      "afreen\n",
      "87\n",
      "aswini\n",
      "50\n",
      "bhargavi\n",
      "70\n",
      "jyothi\n",
      "65\n",
      "ram\n",
      "54\n",
      "{'siri': 60, 'saru': 50, 'vasu': 80, 'sravs': 80, 'shabu': 90, 'afreen': 87, 'aswini': 50, 'bhargavi': 70, 'jyothi': 65, 'ram': 54}\n"
     ]
    }
   ],
   "source": [
    "# Ask user to give name and marks of 10 different students.store them in dictionary\n",
    "d={}\n",
    "n=int(input())\n",
    "for i in range(1,n+1):\n",
    "    q=input()\n",
    "    r=int(input())\n",
    "    d[q]=r \n",
    "print(d)"
   ]
  },
  {
   "cell_type": "markdown",
   "metadata": {},
   "source": [
    "## Question 6"
   ]
  },
  {
   "cell_type": "code",
   "execution_count": 2,
   "metadata": {},
   "outputs": [
    {
     "name": "stdout",
     "output_type": "stream",
     "text": [
      "{'siri': 60, 'saru': 50, 'vasu': 80, 'sravs': 80, 'shabu': 90, 'afreen': 87, 'aswini': 50, 'bhargavi': 70, 'jyothi': 65, 'ram': 54}\n",
      "['afreen', 'aswini', 'bhargavi', 'jyothi', 'ram', 'saru', 'shabu', 'siri', 'sravs', 'vasu']\n",
      "afreen : 87\n",
      "aswini : 50\n",
      "bhargavi : 70\n",
      "jyothi : 65\n",
      "ram : 54\n",
      "saru : 50\n",
      "shabu : 90\n",
      "siri : 60\n",
      "sravs : 80\n",
      "vasu : 80\n"
     ]
    }
   ],
   "source": [
    "# sort the dictionary created in previous example according to the marks\n",
    "print(d)\n",
    "p=sorted(d.keys())\n",
    "print(p)\n",
    "for i in p:\n",
    "    print(i,\":\",d[i])\n"
   ]
  },
  {
   "cell_type": "markdown",
   "metadata": {},
   "source": [
    "## Question 7"
   ]
  },
  {
   "cell_type": "code",
   "execution_count": null,
   "metadata": {},
   "outputs": [
    {
     "name": "stdout",
     "output_type": "stream",
     "text": [
      "short\n",
      "long\n"
     ]
    }
   ],
   "source": [
    "d={\"right\":\"left\",\"plus\":\"minus\",\"short\":\"long\"}\n",
    "for i in d.keys():\n",
    "    n=input()\n",
    "    print(d.get(n))\n"
   ]
  },
  {
   "cell_type": "code",
   "execution_count": null,
   "metadata": {},
   "outputs": [],
   "source": []
  }
 ],
 "metadata": {
  "kernelspec": {
   "display_name": "Python 3",
   "language": "python",
   "name": "python3"
  },
  "language_info": {
   "codemirror_mode": {
    "name": "ipython",
    "version": 3
   },
   "file_extension": ".py",
   "mimetype": "text/x-python",
   "name": "python",
   "nbconvert_exporter": "python",
   "pygments_lexer": "ipython3",
   "version": "3.7.3"
  }
 },
 "nbformat": 4,
 "nbformat_minor": 2
}
