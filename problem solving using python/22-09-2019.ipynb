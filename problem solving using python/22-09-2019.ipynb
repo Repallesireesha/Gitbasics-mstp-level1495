{
 "cells": [
  {
   "cell_type": "markdown",
   "metadata": {},
   "source": [
    "## Assignment Operators\n",
    "* a+=b\n",
    "* a-=b\n",
    "* a*=b\n",
    "* a/=b\n",
    "* a%=b\n"
   ]
  },
  {
   "cell_type": "code",
   "execution_count": 2,
   "metadata": {},
   "outputs": [
    {
     "name": "stdout",
     "output_type": "stream",
     "text": [
      "1.0\n"
     ]
    }
   ],
   "source": [
    "p=30\n",
    "p/=30 #p=p/30\n",
    "print(p)\n",
    "p+=30 #p=p+30 p++"
   ]
  },
  {
   "cell_type": "markdown",
   "metadata": {},
   "source": [
    "## Comparision Operators"
   ]
  },
  {
   "cell_type": "code",
   "execution_count": 3,
   "metadata": {},
   "outputs": [
    {
     "name": "stdout",
     "output_type": "stream",
     "text": [
      "True\n",
      "False\n",
      "True\n",
      "False\n"
     ]
    }
   ],
   "source": [
    "p=5\n",
    "q=10\n",
    "print(p<q)\n",
    "print(p>q)\n",
    "print(p!=q)\n",
    "print(p==q)"
   ]
  },
  {
   "cell_type": "markdown",
   "metadata": {},
   "source": [
    "## LOgical Operators\n",
    " * AND\n",
    "* OR\n",
    "* NOT\n"
   ]
  },
  {
   "cell_type": "code",
   "execution_count": 4,
   "metadata": {},
   "outputs": [
    {
     "name": "stdout",
     "output_type": "stream",
     "text": [
      "40\n",
      "30\n",
      "False\n",
      "False\n"
     ]
    }
   ],
   "source": [
    "p=30\n",
    "q=40\n",
    "print(p and q)\n",
    "print(p or q)\n",
    "print(not p)\n",
    "print(not q)"
   ]
  },
  {
   "cell_type": "markdown",
   "metadata": {},
   "source": [
    "## Bitwise Operators\n",
    "* a/b\n",
    "* a&b\n",
    "* a^b\n",
    "* a>>b (shift a right by b bits)\n",
    "* a<<b (shift a left by b bits)"
   ]
  },
  {
   "cell_type": "code",
   "execution_count": 5,
   "metadata": {},
   "outputs": [
    {
     "name": "stdout",
     "output_type": "stream",
     "text": [
      "31\n",
      "9\n",
      "22\n",
      "0\n",
      "503316480\n"
     ]
    }
   ],
   "source": [
    "p=15\n",
    "q=25\n",
    "print(p|q)\n",
    "print(p&q)\n",
    "print(p^q)\n",
    "print(p>>q)\n",
    "print(p<<q)"
   ]
  },
  {
   "cell_type": "markdown",
   "metadata": {},
   "source": [
    "## Identity Operators\n",
    "* is\n",
    "* is not"
   ]
  },
  {
   "cell_type": "code",
   "execution_count": 6,
   "metadata": {},
   "outputs": [
    {
     "data": {
      "text/plain": [
       "False"
      ]
     },
     "execution_count": 6,
     "metadata": {},
     "output_type": "execute_result"
    }
   ],
   "source": [
    "p=50\n",
    "p is 50\n",
    "p is not 50"
   ]
  },
  {
   "cell_type": "markdown",
   "metadata": {},
   "source": [
    "## Membership Operators\n",
    "* in\n",
    "* not in"
   ]
  },
  {
   "cell_type": "code",
   "execution_count": 7,
   "metadata": {},
   "outputs": [
    {
     "data": {
      "text/plain": [
       "True"
      ]
     },
     "execution_count": 7,
     "metadata": {},
     "output_type": "execute_result"
    }
   ],
   "source": [
    "p=[12,13,14]\n",
    "12 in p"
   ]
  },
  {
   "cell_type": "code",
   "execution_count": 8,
   "metadata": {},
   "outputs": [
    {
     "data": {
      "text/plain": [
       "False"
      ]
     },
     "execution_count": 8,
     "metadata": {},
     "output_type": "execute_result"
    }
   ],
   "source": [
    "15 in p"
   ]
  },
  {
   "cell_type": "code",
   "execution_count": 9,
   "metadata": {},
   "outputs": [
    {
     "data": {
      "text/plain": [
       "True"
      ]
     },
     "execution_count": 9,
     "metadata": {},
     "output_type": "execute_result"
    }
   ],
   "source": [
    "16 is not p"
   ]
  },
  {
   "cell_type": "markdown",
   "metadata": {},
   "source": [
    "## Inputs/Output"
   ]
  },
  {
   "cell_type": "code",
   "execution_count": 10,
   "metadata": {},
   "outputs": [
    {
     "name": "stdout",
     "output_type": "stream",
     "text": [
      "[12, 13, 14]\n"
     ]
    }
   ],
   "source": [
    "print(p)"
   ]
  },
  {
   "cell_type": "code",
   "execution_count": null,
   "metadata": {},
   "outputs": [
    {
     "name": "stdout",
     "output_type": "stream",
     "text": [
      "enter a number\n"
     ]
    }
   ],
   "source": [
    "print(\"enter a number\")\n",
    "a=input()"
   ]
  },
  {
   "cell_type": "code",
   "execution_count": 1,
   "metadata": {},
   "outputs": [
    {
     "name": "stdout",
     "output_type": "stream",
     "text": [
      "enter a number20\n"
     ]
    }
   ],
   "source": [
    "a=input(\"enter a number\")"
   ]
  },
  {
   "cell_type": "code",
   "execution_count": 2,
   "metadata": {},
   "outputs": [
    {
     "name": "stdout",
     "output_type": "stream",
     "text": [
      "enter a number30\n"
     ]
    }
   ],
   "source": [
    "a=input(\"enter a number\")"
   ]
  },
  {
   "cell_type": "code",
   "execution_count": 3,
   "metadata": {},
   "outputs": [
    {
     "name": "stdout",
     "output_type": "stream",
     "text": [
      "enter a number10\n",
      "enter a number20\n",
      "enter a number30\n"
     ]
    }
   ],
   "source": [
    "p=input(\"enter a number\")\n",
    "q=input(\"enter a number\")\n",
    "r=input(\"enter a number\")"
   ]
  },
  {
   "cell_type": "code",
   "execution_count": 4,
   "metadata": {},
   "outputs": [
    {
     "name": "stdout",
     "output_type": "stream",
     "text": [
      "10 20 30\n"
     ]
    }
   ],
   "source": [
    "print(p,q,r)"
   ]
  },
  {
   "cell_type": "code",
   "execution_count": 5,
   "metadata": {},
   "outputs": [
    {
     "name": "stdout",
     "output_type": "stream",
     "text": [
      "10,20,30\n",
      "10;20;30\n",
      "10:20:30\n"
     ]
    }
   ],
   "source": [
    "print(p,q,r,sep=\",\")\n",
    "print(p,q,r,sep=\";\")\n",
    "print(p,q,r,sep=\":\")"
   ]
  },
  {
   "cell_type": "code",
   "execution_count": 6,
   "metadata": {},
   "outputs": [
    {
     "name": "stdout",
     "output_type": "stream",
     "text": [
      "10\n",
      "20\n",
      "30\n"
     ]
    }
   ],
   "source": [
    "print(p)\n",
    "print(q)\n",
    "print(r)"
   ]
  },
  {
   "cell_type": "code",
   "execution_count": 8,
   "metadata": {},
   "outputs": [
    {
     "name": "stdout",
     "output_type": "stream",
     "text": [
      "10@20@30\n",
      "10@20@30\n",
      "10@20@30\n"
     ]
    }
   ],
   "source": [
    "print(p,q,r,sep=\"@\")\n",
    "print(p,q,r,sep=\"@\")\n",
    "print(p,q,r,sep=\"@\")      "
   ]
  },
  {
   "cell_type": "code",
   "execution_count": 10,
   "metadata": {},
   "outputs": [
    {
     "name": "stdout",
     "output_type": "stream",
     "text": [
      "10\t20\t30\n"
     ]
    }
   ],
   "source": [
    "print(p,end=\"\\t\")\n",
    "print(q,end=\"\\t\")\n",
    "print(r)"
   ]
  },
  {
   "cell_type": "code",
   "execution_count": 11,
   "metadata": {},
   "outputs": [
    {
     "name": "stdout",
     "output_type": "stream",
     "text": [
      "10\t20\n",
      "30\n"
     ]
    }
   ],
   "source": [
    "print(p,end=\"\\t\")\n",
    "print(q)\n",
    "print(r)"
   ]
  },
  {
   "cell_type": "code",
   "execution_count": 13,
   "metadata": {},
   "outputs": [
    {
     "name": "stdout",
     "output_type": "stream",
     "text": [
      "90\n"
     ]
    }
   ],
   "source": [
    "p=40\n",
    "q=50\n",
    "print(p+q)"
   ]
  },
  {
   "cell_type": "code",
   "execution_count": 15,
   "metadata": {},
   "outputs": [
    {
     "name": "stdout",
     "output_type": "stream",
     "text": [
      "enter the number10\n",
      "enter the number20\n",
      "<class 'str'>\n",
      "<class 'str'>\n"
     ]
    }
   ],
   "source": [
    "p=input(\"enter the number\")\n",
    "q=input(\"enter the number\")\n",
    "print(type(a))\n",
    "print(type(p+q))"
   ]
  },
  {
   "cell_type": "markdown",
   "metadata": {},
   "source": [
    "p=int(input(\"enter a number\"))\n",
    "q=input(input(\"enter a number\"))\n",
    "print(p+q)"
   ]
  },
  {
   "cell_type": "code",
   "execution_count": 1,
   "metadata": {},
   "outputs": [
    {
     "name": "stdout",
     "output_type": "stream",
     "text": [
      "enter a number10\n",
      "enter a number20\n",
      "30.0\n"
     ]
    }
   ],
   "source": [
    "p=input(\"enter a number\")\n",
    "q=input(\"enter a number\")\n",
    "print(float(p)+float(q))"
   ]
  },
  {
   "cell_type": "markdown",
   "metadata": {},
   "source": [
    "## Strings"
   ]
  },
  {
   "cell_type": "code",
   "execution_count": 3,
   "metadata": {},
   "outputs": [
    {
     "name": "stdout",
     "output_type": "stream",
     "text": [
      "hello kvsw\n",
      "hello \n",
      " kvsw\n",
      "hello kvsw\n",
      "I don't\n",
      "first\n",
      "second\n",
      "third\n",
      "first\n",
      "second\tthird\n"
     ]
    }
   ],
   "source": [
    "print(\"hello kvsw\")\n",
    "print(\"hello \\n kvsw\")\n",
    "print('hello kvsw')\n",
    "print('I don\\'t')\n",
    "print(\"\"\"first\n",
    "second\n",
    "third\"\"\")\n",
    "print(\"first\\nsecond\\tthird\")"
   ]
  },
  {
   "cell_type": "code",
   "execution_count": 10,
   "metadata": {},
   "outputs": [
    {
     "ename": "SyntaxError",
     "evalue": "EOL while scanning string literal (<ipython-input-10-95f3f77fe5e5>, line 3)",
     "output_type": "error",
     "traceback": [
      "\u001b[1;36m  File \u001b[1;32m\"<ipython-input-10-95f3f77fe5e5>\"\u001b[1;36m, line \u001b[1;32m3\u001b[0m\n\u001b[1;33m    print(\"sum of, a ,\"and\" b,\"is\"p+q)\u001b[0m\n\u001b[1;37m                                      ^\u001b[0m\n\u001b[1;31mSyntaxError\u001b[0m\u001b[1;31m:\u001b[0m EOL while scanning string literal\n"
     ]
    }
   ],
   "source": [
    "p=30\n",
    "q=50\n",
    "print(\"sum of, a ,\"and\" b,\"is\"p+q)"
   ]
  },
  {
   "cell_type": "code",
   "execution_count": 9,
   "metadata": {},
   "outputs": [
    {
     "name": "stdout",
     "output_type": "stream",
     "text": [
      "sum of 50 and 90 is 140\n"
     ]
    }
   ],
   "source": [
    "p=50\n",
    "q=90\n",
    "print(\"sum of {0} and {1} is {2}\".format(p,q,p+q))"
   ]
  },
  {
   "cell_type": "markdown",
   "metadata": {},
   "source": [
    "## String slicing"
   ]
  },
  {
   "cell_type": "code",
   "execution_count": 14,
   "metadata": {},
   "outputs": [
    {
     "name": "stdout",
     "output_type": "stream",
     "text": [
      "S,t,y\n"
     ]
    }
   ],
   "source": [
    "a=\"Style\"\n",
    "print(a[0],a[1],a[2],sep=\",\")"
   ]
  },
  {
   "cell_type": "code",
   "execution_count": 16,
   "metadata": {},
   "outputs": [
    {
     "name": "stdout",
     "output_type": "stream",
     "text": [
      "S t y\n"
     ]
    }
   ],
   "source": [
    "a=\"Style\"\n",
    "print(a[0],a[1],a[2],sep=\" \")"
   ]
  },
  {
   "cell_type": "code",
   "execution_count": 18,
   "metadata": {},
   "outputs": [
    {
     "name": "stdout",
     "output_type": "stream",
     "text": [
      "Sty\n"
     ]
    }
   ],
   "source": [
    "a=\"Style\"\n",
    "print(a[0],end=\"\")\n",
    "print(a[1],end=\"\")\n",
    "print(a[2])"
   ]
  },
  {
   "cell_type": "code",
   "execution_count": 21,
   "metadata": {},
   "outputs": [
    {
     "name": "stdout",
     "output_type": "stream",
     "text": [
      "Sty\n",
      "Sty\n",
      "Sty\n"
     ]
    }
   ],
   "source": [
    "#a[start:end:step]     (start is inclusive,end is exclusive)\n",
    "print(a[0:3])\n",
    "print(a[:3])\n",
    "print(a[:3:1])"
   ]
  },
  {
   "cell_type": "code",
   "execution_count": 22,
   "metadata": {},
   "outputs": [
    {
     "name": "stdout",
     "output_type": "stream",
     "text": [
      "Technology\n"
     ]
    }
   ],
   "source": [
    "a=\"Technology\"\n",
    "print(a[0:])"
   ]
  },
  {
   "cell_type": "code",
   "execution_count": 23,
   "metadata": {},
   "outputs": [
    {
     "name": "stdout",
     "output_type": "stream",
     "text": [
      "Technology\n",
      "Technology\n"
     ]
    }
   ],
   "source": [
    "a=\"Technology\"\n",
    "print(a[0:])\n",
    "print(a[0::1])"
   ]
  },
  {
   "cell_type": "code",
   "execution_count": 25,
   "metadata": {},
   "outputs": [
    {
     "name": "stdout",
     "output_type": "stream",
     "text": [
      "Technology\n",
      "Technology\n",
      "Technology\n",
      "Technology\n",
      "10\n"
     ]
    }
   ],
   "source": [
    "a=\"Technology\"\n",
    "print(a[0:])\n",
    "print(a[0::])\n",
    "print(a[0:len(a):1])\n",
    "print(a[0:len(a)])\n",
    "print(len(a))"
   ]
  },
  {
   "cell_type": "code",
   "execution_count": 26,
   "metadata": {},
   "outputs": [
    {
     "name": "stdout",
     "output_type": "stream",
     "text": [
      "Technology\n"
     ]
    }
   ],
   "source": [
    "print(a[::])"
   ]
  },
  {
   "cell_type": "code",
   "execution_count": 28,
   "metadata": {},
   "outputs": [
    {
     "name": "stdout",
     "output_type": "stream",
     "text": [
      "g\n"
     ]
    }
   ],
   "source": [
    "a=\"Technology\"\n",
    "print(a[-2])"
   ]
  },
  {
   "cell_type": "code",
   "execution_count": 32,
   "metadata": {},
   "outputs": [
    {
     "name": "stdout",
     "output_type": "stream",
     "text": [
      "ygolonhceT\n",
      "ygolonhceT\n",
      "ygolonhceT\n"
     ]
    }
   ],
   "source": [
    "print(a[-1::-1])# to reverse the string\n",
    "print(a[len(a)::-1])\n",
    "print(a[::-1])#a[-1],a[-2],a[-3]\n",
    "              # y,g,i"
   ]
  },
  {
   "cell_type": "code",
   "execution_count": 43,
   "metadata": {},
   "outputs": [
    {
     "name": "stdout",
     "output_type": "stream",
     "text": [
      "ksagl\n",
      "senwv\n"
     ]
    }
   ],
   "source": [
    "a=\"kvswangels\" # to print the alternative characters of string\n",
    "print(a[0::2])\n",
    "#a[0]--k\n",
    "#a[0+2]--a[2]--s\n",
    "#a[2+2]--a[4]--a\n",
    "print(a[::-2]) # to print the alternative characters inthe reverse string\n",
    "\n"
   ]
  },
  {
   "cell_type": "code",
   "execution_count": 44,
   "metadata": {},
   "outputs": [
    {
     "name": "stdout",
     "output_type": "stream",
     "text": [
      "els\n",
      "els\n",
      "els\n",
      "els\n"
     ]
    }
   ],
   "source": [
    "print(a[-3::1])\n",
    "print(a[-3:])\n",
    "print(a[len(a)-3::])\n",
    "print(a[-3:len(a)])"
   ]
  },
  {
   "cell_type": "code",
   "execution_count": 45,
   "metadata": {},
   "outputs": [
    {
     "name": "stdout",
     "output_type": "stream",
     "text": [
      "10\n",
      "\n"
     ]
    }
   ],
   "source": [
    "# to print the middle character of the string\n",
    "print(len(a))\n",
    "print(a[len(a)//2:len(a)//2-1])#a[5:6-1]\n"
   ]
  },
  {
   "cell_type": "markdown",
   "metadata": {},
   "source": [
    "## Methods of string"
   ]
  },
  {
   "cell_type": "code",
   "execution_count": 47,
   "metadata": {},
   "outputs": [
    {
     "name": "stdout",
     "output_type": "stream",
     "text": [
      "KVSWROCKS\n"
     ]
    }
   ],
   "source": [
    "a=\"kvswrocks\"\n",
    "a=print(a.upper())"
   ]
  },
  {
   "cell_type": "code",
   "execution_count": 48,
   "metadata": {},
   "outputs": [
    {
     "name": "stdout",
     "output_type": "stream",
     "text": [
      "kvswrocks\n"
     ]
    }
   ],
   "source": [
    "a=\"KVSWROCKS\"\n",
    "a=print(a.lower())"
   ]
  },
  {
   "cell_type": "code",
   "execution_count": 50,
   "metadata": {},
   "outputs": [
    {
     "name": "stdout",
     "output_type": "stream",
     "text": [
      "HJHrsiriBVBA\n"
     ]
    }
   ],
   "source": [
    "a=\"hjhRSIRIbvba\"\n",
    "print(a.swapcase())"
   ]
  },
  {
   "cell_type": "code",
   "execution_count": 51,
   "metadata": {},
   "outputs": [
    {
     "name": "stdout",
     "output_type": "stream",
     "text": [
      "R\n"
     ]
    }
   ],
   "source": [
    "a=\"mRs\"\n",
    "print(a[1])"
   ]
  },
  {
   "cell_type": "code",
   "execution_count": 55,
   "metadata": {},
   "outputs": [
    {
     "name": "stdout",
     "output_type": "stream",
     "text": [
      "4\n"
     ]
    }
   ],
   "source": [
    "a=\"bcvcbvcvcbnv\"\n",
    "print(a.count(\"v\"))\n"
   ]
  },
  {
   "cell_type": "code",
   "execution_count": null,
   "metadata": {},
   "outputs": [],
   "source": []
  }
 ],
 "metadata": {
  "kernelspec": {
   "display_name": "Python 3",
   "language": "python",
   "name": "python3"
  },
  "language_info": {
   "codemirror_mode": {
    "name": "ipython",
    "version": 3
   },
   "file_extension": ".py",
   "mimetype": "text/x-python",
   "name": "python",
   "nbconvert_exporter": "python",
   "pygments_lexer": "ipython3",
   "version": "3.7.3"
  }
 },
 "nbformat": 4,
 "nbformat_minor": 2
}
