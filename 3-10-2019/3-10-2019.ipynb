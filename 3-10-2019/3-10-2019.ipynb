{
 "cells": [
  {
   "cell_type": "markdown",
   "metadata": {},
   "source": [
    "## File handling in python\n",
    "* read--r\n",
    "* write--w\n",
    "* append--a\n",
    "* read&write--r+\n",
    "* write&read--w+\n",
    "* append&write--a+\n",
    "* x..>exclussive write"
   ]
  },
  {
   "cell_type": "code",
   "execution_count": 2,
   "metadata": {},
   "outputs": [],
   "source": [
    "# file opening\n",
    "# file=open(\"sample.txt\",\"mode\")"
   ]
  },
  {
   "cell_type": "code",
   "execution_count": 8,
   "metadata": {},
   "outputs": [],
   "source": [
    "#create a file and add content\n",
    "f=open(\"data.txt\",\"w\")\n",
    "f.write(\"welcome python\")\n",
    "f.write(\"\\nwelcome to the world\\n\")\n",
    "f.close()"
   ]
  },
  {
   "cell_type": "code",
   "execution_count": 11,
   "metadata": {},
   "outputs": [
    {
     "name": "stdout",
     "output_type": "stream",
     "text": [
      "welcome python\n",
      "welcome to the world\n",
      "\n"
     ]
    }
   ],
   "source": [
    "#print content of a file\n",
    "filedata=open(\"data.txt\",\"r\")\n",
    "f1=filedata.read()\n",
    "print(f1)\n",
    "filedata.close()"
   ]
  },
  {
   "cell_type": "code",
   "execution_count": 14,
   "metadata": {},
   "outputs": [
    {
     "name": "stdout",
     "output_type": "stream",
     "text": [
      "welcome python\n",
      "welcome to the world\n",
      "\n"
     ]
    }
   ],
   "source": [
    "## print data of files using function\n",
    "def read(filepath):\n",
    "    filepath=open(\"data.txt\",\"r\")\n",
    "    data=filepath.read()\n",
    "    print(data)\n",
    "filepath=\"data.txt\"\n",
    "read(filepath)\n",
    "    \n",
    "\n",
    "    "
   ]
  },
  {
   "cell_type": "code",
   "execution_count": 25,
   "metadata": {},
   "outputs": [],
   "source": [
    "#fuction to write data to a file\n",
    "#data=\"mstp apssdc\"\n",
    "def write(data):\n",
    "    data=open(\"data.txt\",\"w\")\n",
    "    data.write(\"apssdc mstp\")\n",
    "    data.close()\n",
    "data=\"data.txt\"\n",
    "write(data)\n",
    "    "
   ]
  },
  {
   "cell_type": "code",
   "execution_count": 26,
   "metadata": {},
   "outputs": [],
   "source": [
    "#functions to add a new content to the file\n",
    "def add(data):\n",
    "    data=open(\"data.txt\",\"a\")\n",
    "    data.write(\"\\nmultiskill developement\\n\")\n",
    "    data.close()\n",
    "data=\"data.txt\"\n",
    "add(data)\n"
   ]
  },
  {
   "cell_type": "code",
   "execution_count": 32,
   "metadata": {},
   "outputs": [
    {
     "name": "stdout",
     "output_type": "stream",
     "text": [
      "<class 'str'>\n"
     ]
    }
   ],
   "source": [
    "def read_data(pathfile):\n",
    "    pathfile=open(\"data.txt\",\"r\")\n",
    "    f=pathfile.read()\n",
    "    print(type(f))\n",
    "pathfile=\"data.txt\"\n",
    "read_data(pathfile)"
   ]
  },
  {
   "cell_type": "code",
   "execution_count": 53,
   "metadata": {},
   "outputs": [
    {
     "name": "stdout",
     "output_type": "stream",
     "text": [
      "apssdc mstp\n",
      "\n"
     ]
    }
   ],
   "source": [
    "f=open(\"data.txt\",\"r\")\n",
    "y=f.readline()\n",
    "print(y)"
   ]
  },
  {
   "cell_type": "code",
   "execution_count": 52,
   "metadata": {},
   "outputs": [
    {
     "name": "stdout",
     "output_type": "stream",
     "text": [
      "apssdc mstp\n",
      " "
     ]
    }
   ],
   "source": [
    "f=open(\"data.txt\",\"r\")\n",
    "s=f.readline()\n",
    "print(s,end=\" \")"
   ]
  },
  {
   "cell_type": "code",
   "execution_count": 44,
   "metadata": {},
   "outputs": [
    {
     "name": "stdout",
     "output_type": "stream",
     "text": [
      "apssdc mstp\n",
      "multiskill developement\n"
     ]
    }
   ],
   "source": [
    "f=open(\"data.txt\",\"r\")\n",
    "x=f.readlines()\n",
    "for i in x:\n",
    "    print(i,end=\"\")"
   ]
  },
  {
   "cell_type": "code",
   "execution_count": 49,
   "metadata": {},
   "outputs": [
    {
     "name": "stdout",
     "output_type": "stream",
     "text": [
      "['apssdc mstp\\n', 'multiskill developement\\n']\n",
      "apssdc mstp\n",
      " multiskill developement\n",
      " "
     ]
    }
   ],
   "source": [
    "def get_elements(data):\n",
    "    with open(\"data.txt\",\"r\") as data:\n",
    "        f=data.readlines()\n",
    "        print(f)\n",
    "        for i in f:\n",
    "            print(i,end=\" \")\n",
    "file=\"data.txt\"\n",
    "get_elements(data)"
   ]
  },
  {
   "cell_type": "code",
   "execution_count": 4,
   "metadata": {},
   "outputs": [
    {
     "name": "stdout",
     "output_type": "stream",
     "text": [
      "2\n"
     ]
    }
   ],
   "source": [
    "# Lines count\n",
    "# character count\n",
    "# word count\n",
    "#file length\n",
    "def line_count(s):\n",
    "    count=0\n",
    "    with open(\"data.txt\",\"r\") as f:\n",
    "        p=f.readlines()\n",
    "        for i in p:\n",
    "                count=count+1\n",
    "        print(count)\n",
    "f=\"data.txt\"\n",
    "line_count(f)\n",
    "\n",
    "\n"
   ]
  },
  {
   "cell_type": "code",
   "execution_count": 6,
   "metadata": {},
   "outputs": [
    {
     "name": "stdout",
     "output_type": "stream",
     "text": [
      "36\n"
     ]
    }
   ],
   "source": [
    "def char_count(f1):\n",
    "    char=0\n",
    "    with open(\"data.txt\",\"r\") as r:\n",
    "            p=r.read()\n",
    "    for i in p:\n",
    "        char=char+1\n",
    "    print(char)\n",
    "f1=\"data.txt\"\n",
    "char_count(f1)"
   ]
  },
  {
   "cell_type": "code",
   "execution_count": 15,
   "metadata": {},
   "outputs": [
    {
     "name": "stdout",
     "output_type": "stream",
     "text": [
      "4\n"
     ]
    }
   ],
   "source": [
    "def word_count(f):\n",
    "    c=0\n",
    "    with open(\"data.txt\",\"r\")as f:\n",
    "        p=f.read()\n",
    "        q=p.split()\n",
    "        print(len(q))\n",
    "f=\"data.txt\"\n",
    "word_count(f)\n",
    "\n",
    "\n"
   ]
  },
  {
   "cell_type": "code",
   "execution_count": null,
   "metadata": {},
   "outputs": [],
   "source": [
    "\n",
    "    "
   ]
  }
 ],
 "metadata": {
  "kernelspec": {
   "display_name": "Python 3",
   "language": "python",
   "name": "python3"
  },
  "language_info": {
   "codemirror_mode": {
    "name": "ipython",
    "version": 3
   },
   "file_extension": ".py",
   "mimetype": "text/x-python",
   "name": "python",
   "nbconvert_exporter": "python",
   "pygments_lexer": "ipython3",
   "version": "3.7.3"
  }
 },
 "nbformat": 4,
 "nbformat_minor": 2
}
